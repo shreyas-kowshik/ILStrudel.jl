{
 "cells": [
  {
   "cell_type": "code",
   "execution_count": 1,
   "metadata": {},
   "outputs": [
    {
     "name": "stderr",
     "output_type": "stream",
     "text": [
      "\u001b[32m\u001b[1m Activating\u001b[22m\u001b[39m environment at `/media/shreyas/Data/UCLA-Intern/ILStrudel/ILStrudel.jl/Project.toml`\n"
     ]
    }
   ],
   "source": [
    "using Pkg\n",
    "Pkg.activate(\".\")\n",
    "using LogicCircuits\n",
    "using ProbabilisticCircuits\n",
    "using CUDA\n",
    "using Distributions\n",
    "using ILStrudel"
   ]
  },
  {
   "cell_type": "code",
   "execution_count": 2,
   "metadata": {},
   "outputs": [
    {
     "name": "stderr",
     "output_type": "stream",
     "text": [
      "┌ Info: Precompiling Evolutionary [86b6b26d-c046-49b6-aa0b-5f0f74682bd6]\n",
      "└ @ Base loading.jl:1278\n"
     ]
    }
   ],
   "source": [
    "using Evolutionary\n",
    "using Random"
   ]
  },
  {
   "cell_type": "code",
   "execution_count": 3,
   "metadata": {},
   "outputs": [
    {
     "data": {
      "text/plain": [
       "(16181×16 DataFrame. Omitted printing of 6 columns\n",
       "│ Row   │ x1   │ x2   │ x3   │ x4   │ x5   │ x6   │ x7   │ x8   │ x9   │ x10  │\n",
       "│       │ \u001b[90mBool\u001b[39m │ \u001b[90mBool\u001b[39m │ \u001b[90mBool\u001b[39m │ \u001b[90mBool\u001b[39m │ \u001b[90mBool\u001b[39m │ \u001b[90mBool\u001b[39m │ \u001b[90mBool\u001b[39m │ \u001b[90mBool\u001b[39m │ \u001b[90mBool\u001b[39m │ \u001b[90mBool\u001b[39m │\n",
       "├───────┼──────┼──────┼──────┼──────┼──────┼──────┼──────┼──────┼──────┼──────┤\n",
       "│ 1     │ 0    │ 0    │ 0    │ 0    │ 0    │ 0    │ 0    │ 0    │ 0    │ 0    │\n",
       "│ 2     │ 0    │ 0    │ 0    │ 1    │ 0    │ 1    │ 1    │ 1    │ 1    │ 1    │\n",
       "│ 3     │ 0    │ 0    │ 0    │ 0    │ 1    │ 0    │ 0    │ 0    │ 0    │ 0    │\n",
       "│ 4     │ 0    │ 1    │ 1    │ 1    │ 1    │ 1    │ 1    │ 1    │ 1    │ 1    │\n",
       "│ 5     │ 0    │ 0    │ 1    │ 1    │ 0    │ 1    │ 1    │ 1    │ 0    │ 0    │\n",
       "│ 6     │ 0    │ 0    │ 0    │ 1    │ 1    │ 1    │ 0    │ 1    │ 0    │ 1    │\n",
       "│ 7     │ 0    │ 0    │ 0    │ 1    │ 1    │ 1    │ 0    │ 1    │ 0    │ 1    │\n",
       "│ 8     │ 0    │ 0    │ 0    │ 1    │ 1    │ 1    │ 0    │ 1    │ 0    │ 1    │\n",
       "│ 9     │ 0    │ 0    │ 0    │ 0    │ 0    │ 0    │ 0    │ 0    │ 0    │ 0    │\n",
       "│ 10    │ 1    │ 1    │ 0    │ 1    │ 0    │ 1    │ 0    │ 1    │ 0    │ 1    │\n",
       "⋮\n",
       "│ 16171 │ 0    │ 0    │ 1    │ 1    │ 1    │ 1    │ 1    │ 1    │ 0    │ 1    │\n",
       "│ 16172 │ 0    │ 0    │ 0    │ 1    │ 0    │ 1    │ 0    │ 0    │ 0    │ 1    │\n",
       "│ 16173 │ 0    │ 0    │ 0    │ 0    │ 0    │ 0    │ 0    │ 0    │ 0    │ 0    │\n",
       "│ 16174 │ 0    │ 1    │ 0    │ 1    │ 0    │ 1    │ 0    │ 0    │ 0    │ 1    │\n",
       "│ 16175 │ 1    │ 1    │ 1    │ 1    │ 1    │ 1    │ 1    │ 1    │ 1    │ 1    │\n",
       "│ 16176 │ 1    │ 1    │ 1    │ 1    │ 0    │ 1    │ 1    │ 1    │ 1    │ 1    │\n",
       "│ 16177 │ 0    │ 0    │ 0    │ 0    │ 1    │ 1    │ 0    │ 0    │ 0    │ 1    │\n",
       "│ 16178 │ 1    │ 1    │ 1    │ 1    │ 1    │ 1    │ 1    │ 1    │ 1    │ 1    │\n",
       "│ 16179 │ 0    │ 0    │ 0    │ 1    │ 1    │ 1    │ 0    │ 0    │ 0    │ 1    │\n",
       "│ 16180 │ 0    │ 0    │ 0    │ 0    │ 0    │ 0    │ 0    │ 1    │ 0    │ 1    │\n",
       "│ 16181 │ 0    │ 0    │ 1    │ 1    │ 1    │ 1    │ 1    │ 1    │ 1    │ 1    │, 2157×16 DataFrame. Omitted printing of 6 columns\n",
       "│ Row  │ x1   │ x2   │ x3   │ x4   │ x5   │ x6   │ x7   │ x8   │ x9   │ x10  │\n",
       "│      │ \u001b[90mBool\u001b[39m │ \u001b[90mBool\u001b[39m │ \u001b[90mBool\u001b[39m │ \u001b[90mBool\u001b[39m │ \u001b[90mBool\u001b[39m │ \u001b[90mBool\u001b[39m │ \u001b[90mBool\u001b[39m │ \u001b[90mBool\u001b[39m │ \u001b[90mBool\u001b[39m │ \u001b[90mBool\u001b[39m │\n",
       "├──────┼──────┼──────┼──────┼──────┼──────┼──────┼──────┼──────┼──────┼──────┤\n",
       "│ 1    │ 1    │ 1    │ 0    │ 1    │ 1    │ 1    │ 1    │ 1    │ 1    │ 1    │\n",
       "│ 2    │ 0    │ 0    │ 0    │ 1    │ 1    │ 1    │ 0    │ 0    │ 0    │ 1    │\n",
       "│ 3    │ 0    │ 0    │ 0    │ 0    │ 0    │ 0    │ 1    │ 0    │ 0    │ 1    │\n",
       "│ 4    │ 0    │ 0    │ 0    │ 0    │ 0    │ 0    │ 0    │ 0    │ 0    │ 0    │\n",
       "│ 5    │ 0    │ 0    │ 0    │ 1    │ 0    │ 0    │ 0    │ 0    │ 0    │ 1    │\n",
       "│ 6    │ 0    │ 0    │ 0    │ 1    │ 1    │ 1    │ 0    │ 0    │ 0    │ 1    │\n",
       "│ 7    │ 0    │ 1    │ 0    │ 0    │ 0    │ 0    │ 0    │ 0    │ 0    │ 1    │\n",
       "│ 8    │ 0    │ 0    │ 0    │ 0    │ 0    │ 0    │ 0    │ 0    │ 0    │ 0    │\n",
       "│ 9    │ 0    │ 0    │ 0    │ 0    │ 1    │ 0    │ 0    │ 0    │ 0    │ 0    │\n",
       "│ 10   │ 0    │ 0    │ 0    │ 1    │ 1    │ 1    │ 1    │ 1    │ 1    │ 1    │\n",
       "⋮\n",
       "│ 2147 │ 0    │ 0    │ 1    │ 0    │ 0    │ 1    │ 1    │ 1    │ 1    │ 1    │\n",
       "│ 2148 │ 0    │ 0    │ 0    │ 0    │ 0    │ 0    │ 0    │ 0    │ 0    │ 0    │\n",
       "│ 2149 │ 0    │ 0    │ 0    │ 0    │ 1    │ 0    │ 0    │ 0    │ 0    │ 1    │\n",
       "│ 2150 │ 0    │ 1    │ 1    │ 1    │ 1    │ 1    │ 1    │ 1    │ 1    │ 1    │\n",
       "│ 2151 │ 0    │ 0    │ 0    │ 1    │ 1    │ 0    │ 0    │ 0    │ 0    │ 1    │\n",
       "│ 2152 │ 0    │ 0    │ 0    │ 0    │ 0    │ 0    │ 0    │ 0    │ 0    │ 0    │\n",
       "│ 2153 │ 0    │ 0    │ 0    │ 0    │ 1    │ 0    │ 0    │ 0    │ 0    │ 0    │\n",
       "│ 2154 │ 0    │ 1    │ 0    │ 1    │ 1    │ 1    │ 0    │ 1    │ 0    │ 1    │\n",
       "│ 2155 │ 0    │ 0    │ 0    │ 1    │ 1    │ 0    │ 0    │ 0    │ 0    │ 1    │\n",
       "│ 2156 │ 0    │ 1    │ 1    │ 0    │ 1    │ 0    │ 0    │ 0    │ 0    │ 1    │\n",
       "│ 2157 │ 0    │ 0    │ 0    │ 1    │ 1    │ 1    │ 0    │ 0    │ 0    │ 1    │, 3236×16 DataFrame. Omitted printing of 6 columns\n",
       "│ Row  │ x1   │ x2   │ x3   │ x4   │ x5   │ x6   │ x7   │ x8   │ x9   │ x10  │\n",
       "│      │ \u001b[90mBool\u001b[39m │ \u001b[90mBool\u001b[39m │ \u001b[90mBool\u001b[39m │ \u001b[90mBool\u001b[39m │ \u001b[90mBool\u001b[39m │ \u001b[90mBool\u001b[39m │ \u001b[90mBool\u001b[39m │ \u001b[90mBool\u001b[39m │ \u001b[90mBool\u001b[39m │ \u001b[90mBool\u001b[39m │\n",
       "├──────┼──────┼──────┼──────┼──────┼──────┼──────┼──────┼──────┼──────┼──────┤\n",
       "│ 1    │ 0    │ 0    │ 0    │ 0    │ 0    │ 0    │ 0    │ 0    │ 0    │ 0    │\n",
       "│ 2    │ 1    │ 0    │ 1    │ 1    │ 1    │ 1    │ 1    │ 0    │ 1    │ 1    │\n",
       "│ 3    │ 1    │ 1    │ 1    │ 1    │ 1    │ 1    │ 1    │ 1    │ 1    │ 1    │\n",
       "│ 4    │ 0    │ 0    │ 0    │ 0    │ 0    │ 0    │ 0    │ 0    │ 0    │ 0    │\n",
       "│ 5    │ 0    │ 0    │ 0    │ 0    │ 0    │ 0    │ 0    │ 0    │ 0    │ 0    │\n",
       "│ 6    │ 0    │ 0    │ 0    │ 0    │ 1    │ 0    │ 0    │ 0    │ 0    │ 0    │\n",
       "│ 7    │ 0    │ 0    │ 0    │ 0    │ 0    │ 0    │ 0    │ 0    │ 0    │ 0    │\n",
       "│ 8    │ 0    │ 0    │ 0    │ 0    │ 0    │ 0    │ 0    │ 0    │ 0    │ 0    │\n",
       "│ 9    │ 0    │ 0    │ 0    │ 0    │ 0    │ 0    │ 0    │ 0    │ 0    │ 0    │\n",
       "│ 10   │ 0    │ 0    │ 0    │ 1    │ 1    │ 0    │ 0    │ 0    │ 0    │ 1    │\n",
       "⋮\n",
       "│ 3226 │ 0    │ 0    │ 0    │ 0    │ 0    │ 0    │ 0    │ 0    │ 0    │ 0    │\n",
       "│ 3227 │ 0    │ 0    │ 0    │ 0    │ 0    │ 0    │ 0    │ 0    │ 0    │ 0    │\n",
       "│ 3228 │ 1    │ 1    │ 1    │ 1    │ 1    │ 1    │ 1    │ 1    │ 1    │ 1    │\n",
       "│ 3229 │ 0    │ 1    │ 0    │ 1    │ 1    │ 1    │ 1    │ 1    │ 1    │ 1    │\n",
       "│ 3230 │ 0    │ 0    │ 0    │ 1    │ 1    │ 1    │ 1    │ 1    │ 1    │ 1    │\n",
       "│ 3231 │ 0    │ 0    │ 1    │ 1    │ 1    │ 1    │ 1    │ 1    │ 1    │ 1    │\n",
       "│ 3232 │ 0    │ 0    │ 0    │ 0    │ 0    │ 0    │ 0    │ 0    │ 0    │ 1    │\n",
       "│ 3233 │ 0    │ 0    │ 0    │ 0    │ 0    │ 0    │ 0    │ 0    │ 0    │ 1    │\n",
       "│ 3234 │ 0    │ 0    │ 1    │ 1    │ 1    │ 1    │ 0    │ 0    │ 0    │ 1    │\n",
       "│ 3235 │ 0    │ 0    │ 0    │ 0    │ 0    │ 1    │ 0    │ 0    │ 0    │ 1    │\n",
       "│ 3236 │ 0    │ 0    │ 1    │ 1    │ 0    │ 1    │ 0    │ 0    │ 0    │ 1    │)"
      ]
     },
     "execution_count": 3,
     "metadata": {},
     "output_type": "execute_result"
    }
   ],
   "source": [
    "train_x, valid_x, test_x = twenty_datasets(\"nltcs\")"
   ]
  },
  {
   "cell_type": "code",
   "execution_count": 4,
   "metadata": {},
   "outputs": [
    {
     "data": {
      "text/plain": [
       "16181×16 BitArray{2}:\n",
       " 0  0  0  0  0  0  0  0  0  0  0  0  0  0  0  0\n",
       " 0  0  0  1  0  1  1  1  1  1  0  1  1  0  0  1\n",
       " 0  0  0  0  1  0  0  0  0  0  0  0  0  0  0  0\n",
       " 0  1  1  1  1  1  1  1  1  1  1  1  1  1  1  1\n",
       " 0  0  1  1  0  1  1  1  0  0  0  0  0  0  0  0\n",
       " 0  0  0  1  1  1  0  1  0  1  1  1  1  1  1  0\n",
       " 0  0  0  1  1  1  0  1  0  1  1  1  1  1  1  0\n",
       " 0  0  0  1  1  1  0  1  0  1  1  1  0  1  0  0\n",
       " 0  0  0  0  0  0  0  0  0  0  0  0  0  0  0  0\n",
       " 1  1  0  1  0  1  0  1  0  1  0  0  0  0  0  0\n",
       " 0  0  0  0  0  0  0  0  0  0  0  0  0  0  0  0\n",
       " 0  0  0  1  1  1  1  0  0  1  1  1  0  1  0  0\n",
       " 0  0  0  0  0  0  0  0  0  0  0  0  0  0  1  0\n",
       " ⋮              ⋮              ⋮              ⋮\n",
       " 0  0  0  0  0  0  0  0  0  0  0  0  0  0  0  0\n",
       " 0  0  1  1  1  1  1  1  0  1  0  1  0  0  0  0\n",
       " 0  0  0  1  0  1  0  0  0  1  0  1  0  0  0  0\n",
       " 0  0  0  0  0  0  0  0  0  0  0  0  0  0  0  0\n",
       " 0  1  0  1  0  1  0  0  0  1  0  0  0  0  0  0\n",
       " 1  1  1  1  1  1  1  1  1  1  1  1  1  1  1  0\n",
       " 1  1  1  1  0  1  1  1  1  1  0  1  1  1  0  0\n",
       " 0  0  0  0  1  1  0  0  0  1  1  1  1  1  1  0\n",
       " 1  1  1  1  1  1  1  1  1  1  1  1  1  1  1  1\n",
       " 0  0  0  1  1  1  0  0  0  1  0  1  0  1  0  0\n",
       " 0  0  0  0  0  0  0  1  0  1  1  1  0  0  0  0\n",
       " 0  0  1  1  1  1  1  1  1  1  0  1  1  0  0  0"
      ]
     },
     "execution_count": 4,
     "metadata": {},
     "output_type": "execute_result"
    }
   ],
   "source": [
    "dmat = BitArray(convert(Matrix, train_x))"
   ]
  },
  {
   "cell_type": "code",
   "execution_count": 14,
   "metadata": {},
   "outputs": [
    {
     "data": {
      "text/plain": [
       "16181"
      ]
     },
     "execution_count": 14,
     "metadata": {},
     "output_type": "execute_result"
    }
   ],
   "source": [
    "N = size(dmat)[1]"
   ]
  },
  {
   "cell_type": "code",
   "execution_count": 27,
   "metadata": {},
   "outputs": [
    {
     "data": {
      "text/plain": [
       "16-element Array{Int32,1}:\n",
       "  1\n",
       "  2\n",
       "  3\n",
       "  4\n",
       "  5\n",
       "  6\n",
       "  7\n",
       "  8\n",
       "  9\n",
       " 10\n",
       " 11\n",
       " 12\n",
       " 13\n",
       " 14\n",
       " 15\n",
       " 16"
      ]
     },
     "execution_count": 27,
     "metadata": {},
     "output_type": "execute_result"
    }
   ],
   "source": [
    "pc, vtree = learn_chow_liu_tree_circuit(train_x)\n",
    "and = children(pc)[1]\n",
    "og_lits = collect(Set{Lit}(variables(and.vtree))) # All literals\n",
    "# On which you can split\n",
    "\n",
    "prime_lits = sort([abs(l) for l in og_lits if l in variables(children(and)[1].vtree)])\n",
    "sub_lits = sort([abs(l) for l in og_lits if l in variables(children(and)[2].vtree)])\n",
    "\n",
    "prime_lits = sort(collect(Set{Lit}(prime_lits)))\n",
    "sub_lits = sort(collect(Set{Lit}(sub_lits)))\n",
    "prime_sub_lits = sort([prime_lits..., sub_lits...])"
   ]
  },
  {
   "cell_type": "code",
   "execution_count": 138,
   "metadata": {},
   "outputs": [
    {
     "data": {
      "text/plain": [
       "fitness (generic function with 1 method)"
      ]
     },
     "execution_count": 138,
     "metadata": {},
     "output_type": "execute_result"
    }
   ],
   "source": [
    "function fitness(bm::BitArray; thresh = 0.001)\n",
    "    mi = _mutual_information(dmat[bm, :], prime_lits, sub_lits)\n",
    "    \n",
    "    if mi < thresh\n",
    "        return -1.0 * sum(bm)\n",
    "    end\n",
    "    return 1.0\n",
    "end"
   ]
  },
  {
   "cell_type": "code",
   "execution_count": 139,
   "metadata": {},
   "outputs": [
    {
     "data": {
      "text/plain": [
       "bm_crossover (generic function with 1 method)"
      ]
     },
     "execution_count": 139,
     "metadata": {},
     "output_type": "execute_result"
    }
   ],
   "source": [
    "function bm_crossover(bm1::BitArray, bm2::BitArray)\n",
    "    return bm1 .| bm2, bm1 .& bm2\n",
    "end"
   ]
  },
  {
   "cell_type": "code",
   "execution_count": 140,
   "metadata": {},
   "outputs": [
    {
     "data": {
      "text/plain": [
       "bm_mutation (generic function with 2 methods)"
      ]
     },
     "execution_count": 140,
     "metadata": {},
     "output_type": "execute_result"
    }
   ],
   "source": [
    "function bm_mutation(p::Real = 0.3)\n",
    "    function mutation(bm::BitArray)\n",
    "        n = size(bm)[1]\n",
    "        d = Binomial(1, p)\n",
    "        mutation_indices = BitArray(rand(d, n))\n",
    "        bm[mutation_indices] .= .!(bm[mutation_indices])\n",
    "        return bm\n",
    "    end\n",
    "    return mutation\n",
    "end"
   ]
  },
  {
   "cell_type": "code",
   "execution_count": 141,
   "metadata": {},
   "outputs": [
    {
     "data": {
      "text/plain": [
       "initial_population (generic function with 6 methods)"
      ]
     },
     "execution_count": 141,
     "metadata": {},
     "output_type": "execute_result"
    }
   ],
   "source": [
    "import Evolutionary.initial_population\n",
    "function initial_population(method::M, individual::BitArray) where {M<:Evolutionary.AbstractOptimizer}\n",
    "    population = []\n",
    "    s = Evolutionary.population_size(method)\n",
    "    for i in 1:Evolutionary.population_size(method)\n",
    "        bm = BitArray(zeros(size(individual)))\n",
    "        bm[(i - 1) * s + 1] = 1\n",
    "        push!(population, bm)\n",
    "    end\n",
    "    return population\n",
    "end"
   ]
  },
  {
   "cell_type": "code",
   "execution_count": 155,
   "metadata": {},
   "outputs": [
    {
     "data": {
      "text/plain": [
       "                  abstol = 1.0e-32\n",
       "                  reltol = 1.0e-32\n",
       "        successive_f_tol = 10\n",
       "              iterations = 10000\n",
       "             store_trace = true\n",
       "              show_trace = false\n",
       "              show_every = 3\n",
       "                callback = nothing\n"
      ]
     },
     "execution_count": 155,
     "metadata": {},
     "output_type": "execute_result"
    }
   ],
   "source": [
    "opts = Evolutionary.Options(iterations=10000, show_every=3, show_trace=false, store_trace=true)"
   ]
  },
  {
   "cell_type": "code",
   "execution_count": 156,
   "metadata": {},
   "outputs": [
    {
     "data": {
      "text/plain": [
       "GA(100, 0.95, 0.95, 0.02, Evolutionary.rouletteinv, bm_crossover, var\"#mutation#23\"{Float64}(0.9))"
      ]
     },
     "execution_count": 156,
     "metadata": {},
     "output_type": "execute_result"
    }
   ],
   "source": [
    "algo = GA(\n",
    "        selection = rouletteinv,\n",
    "        mutation =  bm_mutation(0.9),\n",
    "        crossover = bm_crossover,\n",
    "        mutationRate = 0.95,\n",
    "        crossoverRate = 0.95,\n",
    "        populationSize = 100,\n",
    "        ε = 0.02\n",
    "    )"
   ]
  },
  {
   "cell_type": "code",
   "execution_count": 157,
   "metadata": {},
   "outputs": [
    {
     "data": {
      "text/plain": [
       "\n",
       " * Status: success\n",
       "\n",
       " * Candidate solution\n",
       "    Minimizer:  [false, false, false,  ...]\n",
       "    Minimum:    1.0\n",
       "    Iterations: 11\n",
       "\n",
       " * Found with\n",
       "    Algorithm: GA[P=100,x=0.95,μ=0.95,ɛ=0.02]\n"
      ]
     },
     "execution_count": 157,
     "metadata": {},
     "output_type": "execute_result"
    }
   ],
   "source": [
    "Random.seed!(2947);\n",
    "bm = BitArray(zeros(size(train_x)[1]))\n",
    "bm[1] = 1\n",
    "res = Evolutionary.optimize(fitness, bm, algo, opts)"
   ]
  },
  {
   "cell_type": "code",
   "execution_count": 154,
   "metadata": {},
   "outputs": [
    {
     "data": {
      "text/plain": [
       "16181-element BitArray{1}:\n",
       " 1\n",
       " 1\n",
       " 1\n",
       " 0\n",
       " 0\n",
       " 1\n",
       " 0\n",
       " 1\n",
       " 0\n",
       " 1\n",
       " 0\n",
       " 1\n",
       " 1\n",
       " ⋮\n",
       " 1\n",
       " 1\n",
       " 0\n",
       " 1\n",
       " 0\n",
       " 1\n",
       " 1\n",
       " 1\n",
       " 1\n",
       " 0\n",
       " 1\n",
       " 1"
      ]
     },
     "execution_count": 154,
     "metadata": {},
     "output_type": "execute_result"
    }
   ],
   "source": [
    "evomodel= Evolutionary.minimizer(res)"
   ]
  },
  {
   "cell_type": "code",
   "execution_count": 158,
   "metadata": {},
   "outputs": [
    {
     "data": {
      "text/plain": [
       "1.0"
      ]
     },
     "execution_count": 158,
     "metadata": {},
     "output_type": "execute_result"
    }
   ],
   "source": [
    "fitness(evomodel)"
   ]
  },
  {
   "cell_type": "code",
   "execution_count": 164,
   "metadata": {},
   "outputs": [
    {
     "data": {
      "text/plain": [
       "16181-element BitArray{1}:\n",
       " 1\n",
       " 0\n",
       " 0\n",
       " 0\n",
       " 0\n",
       " 0\n",
       " 0\n",
       " 0\n",
       " 0\n",
       " 0\n",
       " 0\n",
       " 0\n",
       " 0\n",
       " ⋮\n",
       " 0\n",
       " 0\n",
       " 0\n",
       " 0\n",
       " 0\n",
       " 0\n",
       " 0\n",
       " 0\n",
       " 0\n",
       " 0\n",
       " 0\n",
       " 0"
      ]
     },
     "execution_count": 164,
     "metadata": {},
     "output_type": "execute_result"
    }
   ],
   "source": [
    "bm"
   ]
  },
  {
   "cell_type": "code",
   "execution_count": 166,
   "metadata": {},
   "outputs": [
    {
     "data": {
      "text/plain": [
       "4.235558064399414"
      ]
     },
     "execution_count": 166,
     "metadata": {},
     "output_type": "execute_result"
    }
   ],
   "source": [
    "_mutual_information(dmat[bm, :], prime_lits, sub_lits)"
   ]
  },
  {
   "cell_type": "code",
   "execution_count": null,
   "metadata": {
    "collapsed": true
   },
   "outputs": [],
   "source": []
  }
 ],
 "metadata": {
  "kernelspec": {
   "display_name": "Julia 1.5.2",
   "language": "julia",
   "name": "julia-1.5"
  },
  "language_info": {
   "file_extension": ".jl",
   "mimetype": "application/julia",
   "name": "julia",
   "version": "1.5.2"
  }
 },
 "nbformat": 4,
 "nbformat_minor": 2
}
