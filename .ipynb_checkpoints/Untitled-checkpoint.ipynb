{
 "cells": [
  {
   "cell_type": "code",
   "execution_count": 1,
   "metadata": {},
   "outputs": [
    {
     "name": "stderr",
     "output_type": "stream",
     "text": [
      "\u001b[32m\u001b[1m Activating\u001b[22m\u001b[39m environment at `/media/shreyas/Data/UCLA-Intern/ILStrudel/ILStrudel.jl/Project.toml`\n"
     ]
    }
   ],
   "source": [
    "using Pkg\n",
    "Pkg.activate(\".\")\n",
    "using LogicCircuits\n",
    "using ProbabilisticCircuits\n",
    "using CUDA\n",
    "using Distributions\n",
    "using ILStrudel"
   ]
  },
  {
   "cell_type": "code",
   "execution_count": 2,
   "metadata": {
    "collapsed": true
   },
   "outputs": [],
   "source": [
    "using Evolutionary\n",
    "using Random"
   ]
  },
  {
   "cell_type": "code",
   "execution_count": 3,
   "metadata": {},
   "outputs": [
    {
     "data": {
      "text/plain": [
       "(16181×16 DataFrame. Omitted printing of 6 columns\n",
       "│ Row   │ x1   │ x2   │ x3   │ x4   │ x5   │ x6   │ x7   │ x8   │ x9   │ x10  │\n",
       "│       │ \u001b[90mBool\u001b[39m │ \u001b[90mBool\u001b[39m │ \u001b[90mBool\u001b[39m │ \u001b[90mBool\u001b[39m │ \u001b[90mBool\u001b[39m │ \u001b[90mBool\u001b[39m │ \u001b[90mBool\u001b[39m │ \u001b[90mBool\u001b[39m │ \u001b[90mBool\u001b[39m │ \u001b[90mBool\u001b[39m │\n",
       "├───────┼──────┼──────┼──────┼──────┼──────┼──────┼──────┼──────┼──────┼──────┤\n",
       "│ 1     │ 0    │ 0    │ 0    │ 0    │ 0    │ 0    │ 0    │ 0    │ 0    │ 0    │\n",
       "│ 2     │ 0    │ 0    │ 0    │ 1    │ 0    │ 1    │ 1    │ 1    │ 1    │ 1    │\n",
       "│ 3     │ 0    │ 0    │ 0    │ 0    │ 1    │ 0    │ 0    │ 0    │ 0    │ 0    │\n",
       "│ 4     │ 0    │ 1    │ 1    │ 1    │ 1    │ 1    │ 1    │ 1    │ 1    │ 1    │\n",
       "│ 5     │ 0    │ 0    │ 1    │ 1    │ 0    │ 1    │ 1    │ 1    │ 0    │ 0    │\n",
       "│ 6     │ 0    │ 0    │ 0    │ 1    │ 1    │ 1    │ 0    │ 1    │ 0    │ 1    │\n",
       "│ 7     │ 0    │ 0    │ 0    │ 1    │ 1    │ 1    │ 0    │ 1    │ 0    │ 1    │\n",
       "│ 8     │ 0    │ 0    │ 0    │ 1    │ 1    │ 1    │ 0    │ 1    │ 0    │ 1    │\n",
       "│ 9     │ 0    │ 0    │ 0    │ 0    │ 0    │ 0    │ 0    │ 0    │ 0    │ 0    │\n",
       "│ 10    │ 1    │ 1    │ 0    │ 1    │ 0    │ 1    │ 0    │ 1    │ 0    │ 1    │\n",
       "⋮\n",
       "│ 16171 │ 0    │ 0    │ 1    │ 1    │ 1    │ 1    │ 1    │ 1    │ 0    │ 1    │\n",
       "│ 16172 │ 0    │ 0    │ 0    │ 1    │ 0    │ 1    │ 0    │ 0    │ 0    │ 1    │\n",
       "│ 16173 │ 0    │ 0    │ 0    │ 0    │ 0    │ 0    │ 0    │ 0    │ 0    │ 0    │\n",
       "│ 16174 │ 0    │ 1    │ 0    │ 1    │ 0    │ 1    │ 0    │ 0    │ 0    │ 1    │\n",
       "│ 16175 │ 1    │ 1    │ 1    │ 1    │ 1    │ 1    │ 1    │ 1    │ 1    │ 1    │\n",
       "│ 16176 │ 1    │ 1    │ 1    │ 1    │ 0    │ 1    │ 1    │ 1    │ 1    │ 1    │\n",
       "│ 16177 │ 0    │ 0    │ 0    │ 0    │ 1    │ 1    │ 0    │ 0    │ 0    │ 1    │\n",
       "│ 16178 │ 1    │ 1    │ 1    │ 1    │ 1    │ 1    │ 1    │ 1    │ 1    │ 1    │\n",
       "│ 16179 │ 0    │ 0    │ 0    │ 1    │ 1    │ 1    │ 0    │ 0    │ 0    │ 1    │\n",
       "│ 16180 │ 0    │ 0    │ 0    │ 0    │ 0    │ 0    │ 0    │ 1    │ 0    │ 1    │\n",
       "│ 16181 │ 0    │ 0    │ 1    │ 1    │ 1    │ 1    │ 1    │ 1    │ 1    │ 1    │, 2157×16 DataFrame. Omitted printing of 6 columns\n",
       "│ Row  │ x1   │ x2   │ x3   │ x4   │ x5   │ x6   │ x7   │ x8   │ x9   │ x10  │\n",
       "│      │ \u001b[90mBool\u001b[39m │ \u001b[90mBool\u001b[39m │ \u001b[90mBool\u001b[39m │ \u001b[90mBool\u001b[39m │ \u001b[90mBool\u001b[39m │ \u001b[90mBool\u001b[39m │ \u001b[90mBool\u001b[39m │ \u001b[90mBool\u001b[39m │ \u001b[90mBool\u001b[39m │ \u001b[90mBool\u001b[39m │\n",
       "├──────┼──────┼──────┼──────┼──────┼──────┼──────┼──────┼──────┼──────┼──────┤\n",
       "│ 1    │ 1    │ 1    │ 0    │ 1    │ 1    │ 1    │ 1    │ 1    │ 1    │ 1    │\n",
       "│ 2    │ 0    │ 0    │ 0    │ 1    │ 1    │ 1    │ 0    │ 0    │ 0    │ 1    │\n",
       "│ 3    │ 0    │ 0    │ 0    │ 0    │ 0    │ 0    │ 1    │ 0    │ 0    │ 1    │\n",
       "│ 4    │ 0    │ 0    │ 0    │ 0    │ 0    │ 0    │ 0    │ 0    │ 0    │ 0    │\n",
       "│ 5    │ 0    │ 0    │ 0    │ 1    │ 0    │ 0    │ 0    │ 0    │ 0    │ 1    │\n",
       "│ 6    │ 0    │ 0    │ 0    │ 1    │ 1    │ 1    │ 0    │ 0    │ 0    │ 1    │\n",
       "│ 7    │ 0    │ 1    │ 0    │ 0    │ 0    │ 0    │ 0    │ 0    │ 0    │ 1    │\n",
       "│ 8    │ 0    │ 0    │ 0    │ 0    │ 0    │ 0    │ 0    │ 0    │ 0    │ 0    │\n",
       "│ 9    │ 0    │ 0    │ 0    │ 0    │ 1    │ 0    │ 0    │ 0    │ 0    │ 0    │\n",
       "│ 10   │ 0    │ 0    │ 0    │ 1    │ 1    │ 1    │ 1    │ 1    │ 1    │ 1    │\n",
       "⋮\n",
       "│ 2147 │ 0    │ 0    │ 1    │ 0    │ 0    │ 1    │ 1    │ 1    │ 1    │ 1    │\n",
       "│ 2148 │ 0    │ 0    │ 0    │ 0    │ 0    │ 0    │ 0    │ 0    │ 0    │ 0    │\n",
       "│ 2149 │ 0    │ 0    │ 0    │ 0    │ 1    │ 0    │ 0    │ 0    │ 0    │ 1    │\n",
       "│ 2150 │ 0    │ 1    │ 1    │ 1    │ 1    │ 1    │ 1    │ 1    │ 1    │ 1    │\n",
       "│ 2151 │ 0    │ 0    │ 0    │ 1    │ 1    │ 0    │ 0    │ 0    │ 0    │ 1    │\n",
       "│ 2152 │ 0    │ 0    │ 0    │ 0    │ 0    │ 0    │ 0    │ 0    │ 0    │ 0    │\n",
       "│ 2153 │ 0    │ 0    │ 0    │ 0    │ 1    │ 0    │ 0    │ 0    │ 0    │ 0    │\n",
       "│ 2154 │ 0    │ 1    │ 0    │ 1    │ 1    │ 1    │ 0    │ 1    │ 0    │ 1    │\n",
       "│ 2155 │ 0    │ 0    │ 0    │ 1    │ 1    │ 0    │ 0    │ 0    │ 0    │ 1    │\n",
       "│ 2156 │ 0    │ 1    │ 1    │ 0    │ 1    │ 0    │ 0    │ 0    │ 0    │ 1    │\n",
       "│ 2157 │ 0    │ 0    │ 0    │ 1    │ 1    │ 1    │ 0    │ 0    │ 0    │ 1    │, 3236×16 DataFrame. Omitted printing of 6 columns\n",
       "│ Row  │ x1   │ x2   │ x3   │ x4   │ x5   │ x6   │ x7   │ x8   │ x9   │ x10  │\n",
       "│      │ \u001b[90mBool\u001b[39m │ \u001b[90mBool\u001b[39m │ \u001b[90mBool\u001b[39m │ \u001b[90mBool\u001b[39m │ \u001b[90mBool\u001b[39m │ \u001b[90mBool\u001b[39m │ \u001b[90mBool\u001b[39m │ \u001b[90mBool\u001b[39m │ \u001b[90mBool\u001b[39m │ \u001b[90mBool\u001b[39m │\n",
       "├──────┼──────┼──────┼──────┼──────┼──────┼──────┼──────┼──────┼──────┼──────┤\n",
       "│ 1    │ 0    │ 0    │ 0    │ 0    │ 0    │ 0    │ 0    │ 0    │ 0    │ 0    │\n",
       "│ 2    │ 1    │ 0    │ 1    │ 1    │ 1    │ 1    │ 1    │ 0    │ 1    │ 1    │\n",
       "│ 3    │ 1    │ 1    │ 1    │ 1    │ 1    │ 1    │ 1    │ 1    │ 1    │ 1    │\n",
       "│ 4    │ 0    │ 0    │ 0    │ 0    │ 0    │ 0    │ 0    │ 0    │ 0    │ 0    │\n",
       "│ 5    │ 0    │ 0    │ 0    │ 0    │ 0    │ 0    │ 0    │ 0    │ 0    │ 0    │\n",
       "│ 6    │ 0    │ 0    │ 0    │ 0    │ 1    │ 0    │ 0    │ 0    │ 0    │ 0    │\n",
       "│ 7    │ 0    │ 0    │ 0    │ 0    │ 0    │ 0    │ 0    │ 0    │ 0    │ 0    │\n",
       "│ 8    │ 0    │ 0    │ 0    │ 0    │ 0    │ 0    │ 0    │ 0    │ 0    │ 0    │\n",
       "│ 9    │ 0    │ 0    │ 0    │ 0    │ 0    │ 0    │ 0    │ 0    │ 0    │ 0    │\n",
       "│ 10   │ 0    │ 0    │ 0    │ 1    │ 1    │ 0    │ 0    │ 0    │ 0    │ 1    │\n",
       "⋮\n",
       "│ 3226 │ 0    │ 0    │ 0    │ 0    │ 0    │ 0    │ 0    │ 0    │ 0    │ 0    │\n",
       "│ 3227 │ 0    │ 0    │ 0    │ 0    │ 0    │ 0    │ 0    │ 0    │ 0    │ 0    │\n",
       "│ 3228 │ 1    │ 1    │ 1    │ 1    │ 1    │ 1    │ 1    │ 1    │ 1    │ 1    │\n",
       "│ 3229 │ 0    │ 1    │ 0    │ 1    │ 1    │ 1    │ 1    │ 1    │ 1    │ 1    │\n",
       "│ 3230 │ 0    │ 0    │ 0    │ 1    │ 1    │ 1    │ 1    │ 1    │ 1    │ 1    │\n",
       "│ 3231 │ 0    │ 0    │ 1    │ 1    │ 1    │ 1    │ 1    │ 1    │ 1    │ 1    │\n",
       "│ 3232 │ 0    │ 0    │ 0    │ 0    │ 0    │ 0    │ 0    │ 0    │ 0    │ 1    │\n",
       "│ 3233 │ 0    │ 0    │ 0    │ 0    │ 0    │ 0    │ 0    │ 0    │ 0    │ 1    │\n",
       "│ 3234 │ 0    │ 0    │ 1    │ 1    │ 1    │ 1    │ 0    │ 0    │ 0    │ 1    │\n",
       "│ 3235 │ 0    │ 0    │ 0    │ 0    │ 0    │ 1    │ 0    │ 0    │ 0    │ 1    │\n",
       "│ 3236 │ 0    │ 0    │ 1    │ 1    │ 0    │ 1    │ 0    │ 0    │ 0    │ 1    │)"
      ]
     },
     "execution_count": 3,
     "metadata": {},
     "output_type": "execute_result"
    }
   ],
   "source": [
    "train_x, valid_x, test_x = twenty_datasets(\"nltcs\")"
   ]
  },
  {
   "cell_type": "code",
   "execution_count": 4,
   "metadata": {},
   "outputs": [
    {
     "data": {
      "text/plain": [
       "16181×16 BitArray{2}:\n",
       " 0  0  0  0  0  0  0  0  0  0  0  0  0  0  0  0\n",
       " 0  0  0  1  0  1  1  1  1  1  0  1  1  0  0  1\n",
       " 0  0  0  0  1  0  0  0  0  0  0  0  0  0  0  0\n",
       " 0  1  1  1  1  1  1  1  1  1  1  1  1  1  1  1\n",
       " 0  0  1  1  0  1  1  1  0  0  0  0  0  0  0  0\n",
       " 0  0  0  1  1  1  0  1  0  1  1  1  1  1  1  0\n",
       " 0  0  0  1  1  1  0  1  0  1  1  1  1  1  1  0\n",
       " 0  0  0  1  1  1  0  1  0  1  1  1  0  1  0  0\n",
       " 0  0  0  0  0  0  0  0  0  0  0  0  0  0  0  0\n",
       " 1  1  0  1  0  1  0  1  0  1  0  0  0  0  0  0\n",
       " 0  0  0  0  0  0  0  0  0  0  0  0  0  0  0  0\n",
       " 0  0  0  1  1  1  1  0  0  1  1  1  0  1  0  0\n",
       " 0  0  0  0  0  0  0  0  0  0  0  0  0  0  1  0\n",
       " ⋮              ⋮              ⋮              ⋮\n",
       " 0  0  0  0  0  0  0  0  0  0  0  0  0  0  0  0\n",
       " 0  0  1  1  1  1  1  1  0  1  0  1  0  0  0  0\n",
       " 0  0  0  1  0  1  0  0  0  1  0  1  0  0  0  0\n",
       " 0  0  0  0  0  0  0  0  0  0  0  0  0  0  0  0\n",
       " 0  1  0  1  0  1  0  0  0  1  0  0  0  0  0  0\n",
       " 1  1  1  1  1  1  1  1  1  1  1  1  1  1  1  0\n",
       " 1  1  1  1  0  1  1  1  1  1  0  1  1  1  0  0\n",
       " 0  0  0  0  1  1  0  0  0  1  1  1  1  1  1  0\n",
       " 1  1  1  1  1  1  1  1  1  1  1  1  1  1  1  1\n",
       " 0  0  0  1  1  1  0  0  0  1  0  1  0  1  0  0\n",
       " 0  0  0  0  0  0  0  1  0  1  1  1  0  0  0  0\n",
       " 0  0  1  1  1  1  1  1  1  1  0  1  1  0  0  0"
      ]
     },
     "execution_count": 4,
     "metadata": {},
     "output_type": "execute_result"
    }
   ],
   "source": [
    "dmat = BitArray(convert(Matrix, train_x))"
   ]
  },
  {
   "cell_type": "code",
   "execution_count": 5,
   "metadata": {},
   "outputs": [
    {
     "data": {
      "text/plain": [
       "16181"
      ]
     },
     "execution_count": 5,
     "metadata": {},
     "output_type": "execute_result"
    }
   ],
   "source": [
    "N = size(dmat)[1]"
   ]
  },
  {
   "cell_type": "code",
   "execution_count": 6,
   "metadata": {},
   "outputs": [
    {
     "data": {
      "text/plain": [
       "16-element Array{Int32,1}:\n",
       "  1\n",
       "  2\n",
       "  3\n",
       "  4\n",
       "  5\n",
       "  6\n",
       "  7\n",
       "  8\n",
       "  9\n",
       " 10\n",
       " 11\n",
       " 12\n",
       " 13\n",
       " 14\n",
       " 15\n",
       " 16"
      ]
     },
     "execution_count": 6,
     "metadata": {},
     "output_type": "execute_result"
    }
   ],
   "source": [
    "pc, vtree = learn_chow_liu_tree_circuit(train_x)\n",
    "and = children(pc)[1]\n",
    "og_lits = collect(Set{Lit}(variables(and.vtree))) # All literals\n",
    "# On which you can split\n",
    "\n",
    "prime_lits = sort([abs(l) for l in og_lits if l in variables(children(and)[1].vtree)])\n",
    "sub_lits = sort([abs(l) for l in og_lits if l in variables(children(and)[2].vtree)])\n",
    "\n",
    "prime_lits = sort(collect(Set{Lit}(prime_lits)))\n",
    "sub_lits = sort(collect(Set{Lit}(sub_lits)))\n",
    "prime_sub_lits = sort([prime_lits..., sub_lits...])"
   ]
  },
  {
   "cell_type": "code",
   "execution_count": 15,
   "metadata": {},
   "outputs": [
    {
     "data": {
      "text/plain": [
       "fitness (generic function with 3 methods)"
      ]
     },
     "execution_count": 15,
     "metadata": {},
     "output_type": "execute_result"
    }
   ],
   "source": [
    "function fitness(idx=BitArray(ones(N)), thresh = 0.1)\n",
    "    function score(bitmask::BitArray)\n",
    "        bm = BitArray(zeros(N))\n",
    "        bm[idx] .= bitmask\n",
    "        mi = _mutual_information(dmat[bm, :], prime_lits, sub_lits; use_gpu=false, k=1, α=0.00000001)\n",
    "    \n",
    "        if mi < thresh\n",
    "            return -1.0 * sum(bm)\n",
    "        end\n",
    "        return 1.0\n",
    "    end\n",
    "    return score\n",
    "end"
   ]
  },
  {
   "cell_type": "code",
   "execution_count": 16,
   "metadata": {},
   "outputs": [
    {
     "data": {
      "text/plain": [
       "bm_crossover (generic function with 1 method)"
      ]
     },
     "execution_count": 16,
     "metadata": {},
     "output_type": "execute_result"
    }
   ],
   "source": [
    "function bm_crossover(bm1::BitArray, bm2::BitArray)\n",
    "#     return bm1 .| bm2, bm1 .& bm2\n",
    "    r = rand(1:size(bm1)[1])\n",
    "    tem1 = copy(bm1[1:r])\n",
    "    tem2 = copy(bm2[1:r])\n",
    "    bm2[1:r] .= tem1\n",
    "    bm1[1:r] .= tem2\n",
    "    return bm1, bm2\n",
    "end"
   ]
  },
  {
   "cell_type": "code",
   "execution_count": 17,
   "metadata": {},
   "outputs": [
    {
     "data": {
      "text/plain": [
       "bm_mutation (generic function with 2 methods)"
      ]
     },
     "execution_count": 17,
     "metadata": {},
     "output_type": "execute_result"
    }
   ],
   "source": [
    "function bm_mutation(p::Real = 0.3)\n",
    "    function mutation(bm::BitArray)\n",
    "        n = size(bm)[1]\n",
    "        d = Binomial(1, p)\n",
    "        mutation_indices = BitArray(rand(d, n))\n",
    "        bm[mutation_indices] .= .!(bm[mutation_indices])\n",
    "        return bm\n",
    "    end\n",
    "    return mutation\n",
    "end"
   ]
  },
  {
   "cell_type": "code",
   "execution_count": 18,
   "metadata": {},
   "outputs": [
    {
     "data": {
      "text/plain": [
       "initial_population (generic function with 6 methods)"
      ]
     },
     "execution_count": 18,
     "metadata": {},
     "output_type": "execute_result"
    }
   ],
   "source": [
    "import Evolutionary.initial_population\n",
    "function initial_population(method::M, individual::BitArray) where {M<:Evolutionary.AbstractOptimizer}\n",
    "    population = []\n",
    "    s = Int(floor(size(individual)[1] / Evolutionary.population_size(method)))\n",
    "    for i in 1:Evolutionary.population_size(method)\n",
    "        bm = BitArray(zeros(size(individual)))\n",
    "        bm[(i - 1) * s + 1] = 1\n",
    "        push!(population, bm)\n",
    "    end\n",
    "    return population\n",
    "end"
   ]
  },
  {
   "cell_type": "code",
   "execution_count": 56,
   "metadata": {
    "scrolled": true
   },
   "outputs": [
    {
     "data": {
      "text/plain": [
       "                  abstol = 1.0e-32\n",
       "                  reltol = 1.0e-32\n",
       "        successive_f_tol = 100000\n",
       "              iterations = 3\n",
       "             store_trace = true\n",
       "              show_trace = true\n",
       "              show_every = 1\n",
       "                callback = nothing\n"
      ]
     },
     "execution_count": 56,
     "metadata": {},
     "output_type": "execute_result"
    }
   ],
   "source": [
    "opts = Evolutionary.Options(iterations=3, show_every=1, show_trace=true, store_trace=true,\n",
    "                           successive_f_tol=100000)"
   ]
  },
  {
   "cell_type": "code",
   "execution_count": 51,
   "metadata": {},
   "outputs": [
    {
     "data": {
      "text/plain": [
       "GA(50000, 0.95, 0.95, 0.2, Evolutionary.rouletteinv, bm_crossover, var\"#mutation#10\"{Float64}(0.1))"
      ]
     },
     "execution_count": 51,
     "metadata": {},
     "output_type": "execute_result"
    }
   ],
   "source": [
    "algo = GA(\n",
    "        selection = rouletteinv,\n",
    "        mutation =  bm_mutation(0.1),\n",
    "        crossover = bm_crossover,\n",
    "        mutationRate = 0.95,\n",
    "        crossoverRate = 0.95,\n",
    "        populationSize = 50000,\n",
    "        ε = 0.2\n",
    "    )"
   ]
  },
  {
   "cell_type": "code",
   "execution_count": 54,
   "metadata": {},
   "outputs": [
    {
     "name": "stdout",
     "output_type": "stream",
     "text": [
      "16181\n",
      "Iter     Function value\n",
      "     0             -0.0\n",
      " * time: 0.0004229545593261719\n",
      "     1          -2998.0\n",
      " * time: 258.09682297706604\n",
      "     2          -3726.0\n",
      " * time: 628.3616540431976\n",
      "     3          -5543.0\n",
      " * time: 1038.5748419761658\n",
      "10638\n",
      "Iter     Function value\n",
      "     0             -0.0\n",
      " * time: 0.0004642009735107422\n",
      "     1          -1970.0\n",
      " * time: 200.99332118034363\n",
      "     2          -2745.0\n",
      " * time: 397.6460180282593\n",
      "     3          -2745.0\n",
      " * time: 537.5493381023407\n",
      "7893\n",
      "Iter     Function value\n",
      "     0             -0.0\n",
      " * time: 0.00019407272338867188\n",
      "     1           -823.0\n",
      " * time: 55.71780204772949\n",
      "     2           -823.0\n",
      " * time: 135.79797792434692\n",
      "     3           -823.0\n",
      " * time: 232.26821899414062\n",
      "7070\n",
      "Iter     Function value\n",
      "     0             -0.0\n",
      " * time: 0.00019097328186035156\n",
      "     1          -1203.0\n",
      " * time: 49.33634400367737\n",
      "     2          -1203.0\n",
      " * time: 122.5447130203247\n",
      "     3          -1203.0\n",
      " * time: 210.5963568687439\n",
      "5867\n",
      "Iter     Function value\n",
      "     0             -0.0\n",
      " * time: 0.00023102760314941406\n",
      "     1           -626.0\n",
      " * time: 41.978806018829346\n",
      "     2           -626.0\n",
      " * time: 103.29761695861816\n",
      "     3           -626.0\n",
      " * time: 176.9404821395874\n",
      "5241\n",
      "Iter     Function value\n",
      "     0             -0.0\n",
      " * time: 0.00019979476928710938\n",
      "     1           -560.0\n",
      " * time: 38.42817687988281\n",
      "     2           -560.0\n",
      " * time: 93.8026077747345\n",
      "     3           -560.0\n",
      " * time: 161.4369239807129\n",
      "4681\n",
      "Iter     Function value\n",
      "     0             -0.0\n",
      " * time: 0.0002090930938720703\n",
      "     1           -452.0\n",
      " * time: 35.67716717720032\n",
      "     2           -452.0\n",
      " * time: 86.86669898033142\n",
      "     3           -452.0\n",
      " * time: 150.0824580192566\n",
      "4229\n",
      "Iter     Function value\n",
      "     0             -0.0\n",
      " * time: 0.00021600723266601562\n",
      "     1             -1.0\n",
      " * time: 33.55388307571411\n",
      "     2             -1.0\n",
      " * time: 85.97853708267212\n",
      "     3             -1.0\n",
      " * time: 142.6366889476776\n",
      "4228\n",
      "Iter     Function value\n",
      "     0             -0.0\n",
      " * time: 0.00021314620971679688\n",
      "     1             -1.0\n",
      " * time: 33.071643114089966\n",
      "     2             -1.0\n",
      " * time: 84.50382399559021\n",
      "     3             -1.0\n",
      " * time: 143.14894914627075\n",
      "4227\n",
      "Iter     Function value\n",
      "     0             -0.0\n",
      " * time: 0.00022101402282714844\n",
      "     1             -1.0\n",
      " * time: 33.84184384346008\n",
      "     2             -1.0\n",
      " * time: 82.06934380531311\n",
      "     3             -1.0\n",
      " * time: 139.56844186782837\n"
     ]
    },
    {
     "data": {
      "text/plain": [
       "11-element Array{Any,1}:\n",
       " Bool[1, 0, 0, 0, 0, 0, 1, 0, 1, 1  …  0, 0, 0, 0, 0, 0, 0, 1, 0, 1]\n",
       " Bool[0, 0, 0, 1, 0, 0, 0, 1, 0, 0  …  0, 1, 0, 0, 1, 0, 0, 0, 1, 0]\n",
       " Bool[0, 0, 0, 0, 0, 0, 0, 0, 0, 0  …  1, 0, 0, 0, 0, 0, 0, 0, 0, 0]\n",
       " Bool[0, 0, 0, 0, 0, 0, 0, 0, 0, 0  …  0, 0, 1, 0, 0, 0, 0, 0, 0, 0]\n",
       " Bool[0, 1, 0, 0, 0, 0, 0, 0, 0, 0  …  0, 0, 0, 0, 0, 0, 0, 0, 0, 0]\n",
       " Bool[0, 0, 0, 0, 0, 0, 0, 0, 0, 0  …  0, 0, 0, 0, 0, 0, 0, 0, 0, 0]\n",
       " Bool[0, 0, 1, 0, 0, 0, 0, 0, 0, 0  …  0, 0, 0, 0, 0, 0, 0, 0, 0, 0]\n",
       " Bool[0, 0, 0, 0, 1, 0, 0, 0, 0, 0  …  0, 0, 0, 0, 0, 0, 0, 0, 0, 0]\n",
       " Bool[0, 0, 0, 0, 0, 1, 0, 0, 0, 0  …  0, 0, 0, 0, 0, 0, 0, 0, 0, 0]\n",
       " Bool[0, 0, 0, 0, 0, 0, 0, 0, 0, 0  …  0, 0, 0, 0, 0, 0, 0, 0, 0, 0]\n",
       " Bool[0, 0, 0, 0, 0, 0, 0, 0, 0, 0  …  0, 0, 0, 1, 0, 1, 1, 0, 0, 0]"
      ]
     },
     "execution_count": 54,
     "metadata": {},
     "output_type": "execute_result"
    }
   ],
   "source": [
    "seeds = []\n",
    "for i in 1:10\n",
    "    push!(seeds, i * 100 + 47)\n",
    "end\n",
    "\n",
    "bitmasks = []\n",
    "acc = BitArray(zeros(N))\n",
    "\n",
    "for seed in seeds\n",
    "    Random.seed!(seed);\n",
    "    idx = .!(acc)\n",
    "    println(sum(idx))\n",
    "    \n",
    "    bm = BitArray(zeros(sum(idx)))\n",
    "    bm[1] = 1\n",
    "    \n",
    "    res = Evolutionary.optimize(fitness(idx), bm, algo, opts)\n",
    "    evomodel = Evolutionary.minimizer(res)\n",
    "    bitmask = BitArray(zeros(N))\n",
    "    bitmask[idx] = evomodel\n",
    "    \n",
    "    acc = acc .| bitmask\n",
    "    \n",
    "    push!(bitmasks, bitmask)\n",
    "end\n",
    "\n",
    "# Assign remaining values to a bitmask\n",
    "push!(bitmasks, .!(acc))"
   ]
  },
  {
   "cell_type": "code",
   "execution_count": 55,
   "metadata": {},
   "outputs": [
    {
     "name": "stdout",
     "output_type": "stream",
     "text": [
      "0.09944059333295875\n",
      "0.09922872557140235\n",
      "0.09362879192316934\n",
      "0.09905460169372662\n",
      "0.09553388615112435\n",
      "0.09772255953804324\n",
      "0.09805116949945049\n",
      "0.0\n",
      "0.0\n",
      "0.0\n",
      "0.15140847047219638\n"
     ]
    }
   ],
   "source": [
    "for b1 in bitmasks\n",
    "    for b2 in bitmasks\n",
    "        if b1 == b2\n",
    "            continue\n",
    "        end\n",
    "        @assert sum(b1 .& b2) == 0 \"Not Disjoint\"\n",
    "    end\n",
    "end\n",
    "\n",
    "for b in bitmasks\n",
    "    mi = _mutual_information(dmat[b, :], prime_lits, sub_lits; use_gpu=false, k=1, α=0.0)\n",
    "    println(mi)\n",
    "end"
   ]
  },
  {
   "cell_type": "code",
   "execution_count": null,
   "metadata": {
    "collapsed": true
   },
   "outputs": [],
   "source": []
  }
 ],
 "metadata": {
  "kernelspec": {
   "display_name": "Julia 1.5.2",
   "language": "julia",
   "name": "julia-1.5"
  },
  "language_info": {
   "file_extension": ".jl",
   "mimetype": "application/julia",
   "name": "julia",
   "version": "1.5.2"
  }
 },
 "nbformat": 4,
 "nbformat_minor": 2
}
