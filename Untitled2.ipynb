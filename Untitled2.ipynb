{
 "cells": [
  {
   "cell_type": "code",
   "execution_count": 1,
   "metadata": {},
   "outputs": [
    {
     "name": "stderr",
     "output_type": "stream",
     "text": [
      "\u001b[32m\u001b[1m Activating\u001b[22m\u001b[39m environment at `/media/shreyas/Data/UCLA-Intern/ILStrudel/ILStrudel.jl/Project.toml`\n",
      "┌ Info: Precompiling ILStrudel [77626a17-285d-42b0-bdb2-964dacc6e476]\n",
      "└ @ Base loading.jl:1278\n"
     ]
    }
   ],
   "source": [
    "using Pkg\n",
    "Pkg.activate(\"/media/shreyas/Data/UCLA-Intern/ILStrudel/ILStrudel.jl\")\n",
    "\n",
    "using Test\n",
    "using LogicCircuits\n",
    "using ProbabilisticCircuits\n",
    "using ILStrudel\n",
    "using Statistics"
   ]
  },
  {
   "cell_type": "code",
   "execution_count": 2,
   "metadata": {},
   "outputs": [
    {
     "data": {
      "text/plain": [
       "(StructSumNode(5534015168287252941), PlainVtreeInnerNode(1,2,3,4,5,6,7,8,9,10,11,12,13,14,15,16))"
      ]
     },
     "execution_count": 2,
     "metadata": {},
     "output_type": "execute_result"
    }
   ],
   "source": [
    "train_x, valid_x, test_x = twenty_datasets(\"nltcs\")\n",
    "pc, vtree = learn_chow_liu_tree_circuit(train_x)"
   ]
  },
  {
   "cell_type": "code",
   "execution_count": 3,
   "metadata": {},
   "outputs": [
    {
     "name": "stdout",
     "output_type": "stream",
     "text": [
      "Iteration 0/100. nodes = 121; params = 74\n",
      "TrainLL = -6.7600561877106955; ValidLL = -6.718522979492397; TestLL = -6.759058596063954\n",
      "Iteration 1/100. nodes = 137; params = 85\n",
      "TrainLL = -6.750281666623392; ValidLL = -6.711352087351859; TestLL = -6.745563514443986\n",
      "Iteration 2/100. nodes = 138; params = 87\n",
      "TrainLL = -6.718723872576824; ValidLL = -6.681698152432389; TestLL = -6.7295129656463\n",
      "Iteration 3/100. nodes = 182; params = 114\n",
      "TrainLL = -6.635573748992847; ValidLL = -6.595011307894242; TestLL = -6.6444059485985045\n",
      "Iteration 4/100. nodes = 183; params = 116\n",
      "TrainLL = -6.617356532263936; ValidLL = -6.5792472510079945; TestLL = -6.62813674803321\n",
      "Iteration 5/100. nodes = 185; params = 117\n",
      "TrainLL = -6.617356531404996; ValidLL = -6.579247616155817; TestLL = -6.628136291001182\n",
      "Iteration 6/100. nodes = 186; params = 119\n",
      "TrainLL = -6.601957947393156; ValidLL = -6.5583123049577905; TestLL = -6.6141064011241815\n",
      "Iteration 7/100. nodes = 188; params = 120\n",
      "TrainLL = -6.60195794354353; ValidLL = -6.558312690685323; TestLL = -6.614107070891217\n",
      "Iteration 8/100. nodes = 189; params = 123\n",
      "TrainLL = -6.5656359181901705; ValidLL = -6.507060598727573; TestLL = -6.57696537900356\n",
      "Iteration 9/100. nodes = 190; params = 124\n",
      "TrainLL = -6.5563632099233216; ValidLL = -6.489196488604684; TestLL = -6.562391653245904\n",
      "Iteration 10/100. nodes = 191; params = 126\n",
      "TrainLL = -6.545809082770285; ValidLL = -6.4842207122375575; TestLL = -6.5517017536423445\n",
      "Iteration 11/100. nodes = 191; params = 125\n",
      "TrainLL = -6.5458090790905175; ValidLL = -6.48421929774604; TestLL = -6.551701274648702\n",
      "Iteration 12/100. nodes = 192; params = 127\n",
      "TrainLL = -6.536813464148884; ValidLL = -6.480961355199265; TestLL = -6.542302638449055\n",
      "Iteration 13/100. nodes = 194; params = 128\n",
      "TrainLL = -6.528389310050567; ValidLL = -6.472427871684737; TestLL = -6.5331719303734594\n",
      "Iteration 14/100. nodes = 195; params = 130\n",
      "TrainLL = -6.525185321610556; ValidLL = -6.473907234111726; TestLL = -6.531982976445134\n",
      "Iteration 15/100. nodes = 200; params = 135\n",
      "TrainLL = -6.472102318029379; ValidLL = -6.412408393381548; TestLL = -6.47605765502697\n",
      "Iteration 16/100. nodes = 201; params = 137\n",
      "TrainLL = -6.455999787684558; ValidLL = -6.404320902385753; TestLL = -6.459703885957014\n",
      "Iteration 17/100. nodes = 203; params = 138\n",
      "TrainLL = -6.455999769133189; ValidLL = -6.40431878157917; TestLL = -6.459703970244487\n",
      "Iteration 18/100. nodes = 204; params = 141\n",
      "TrainLL = -6.452376617788063; ValidLL = -6.40218645744684; TestLL = -6.453420475731902\n",
      "Iteration 19/100. nodes = 220; params = 152\n",
      "TrainLL = -6.440022223155376; ValidLL = -6.387712349849771; TestLL = -6.445420349009204\n",
      "Iteration 20/100. nodes = 221; params = 154\n",
      "TrainLL = -6.439570383414905; ValidLL = -6.387595477242905; TestLL = -6.444499208032306\n",
      "Iteration 21/100. nodes = 247; params = 170\n",
      "TrainLL = -6.431699860576288; ValidLL = -6.380444331203096; TestLL = -6.438623355823811\n",
      "Iteration 22/100. nodes = 248; params = 172\n",
      "TrainLL = -6.430893909887391; ValidLL = -6.379195121267311; TestLL = -6.438963491666018\n",
      "Iteration 23/100. nodes = 250; params = 173\n",
      "TrainLL = -6.43089390791568; ValidLL = -6.379194277718594; TestLL = -6.43896356953052\n",
      "Iteration 24/100. nodes = 251; params = 175\n",
      "TrainLL = -6.430779809491037; ValidLL = -6.379340982664462; TestLL = -6.438725692794829\n",
      "Iteration 25/100. nodes = 263; params = 182\n",
      "TrainLL = -6.380291143110718; ValidLL = -6.33070168132851; TestLL = -6.389906677523977\n",
      "Iteration 26/100. nodes = 264; params = 183\n",
      "TrainLL = -6.380291143110718; ValidLL = -6.33070168132851; TestLL = -6.389906677523977\n",
      "Iteration 27/100. nodes = 266; params = 184\n",
      "TrainLL = -6.380291143110718; ValidLL = -6.33070168132851; TestLL = -6.389906677523977\n",
      "Iteration 28/100. nodes = 267; params = 185\n",
      "TrainLL = -6.380291143110718; ValidLL = -6.33070168132851; TestLL = -6.389906677523977\n",
      "Iteration 29/100. nodes = 269; params = 186\n",
      "TrainLL = -6.379749787852348; ValidLL = -6.330475821922842; TestLL = -6.389023780004508\n",
      "Iteration 30/100. nodes = 270; params = 187\n",
      "TrainLL = -6.379749787852348; ValidLL = -6.330475821922842; TestLL = -6.389023780004508\n",
      "Iteration 31/100. nodes = 272; params = 188\n",
      "TrainLL = -6.379749787852348; ValidLL = -6.330475821922842; TestLL = -6.389023780004508\n",
      "Iteration 32/100. nodes = 273; params = 190\n",
      "TrainLL = -6.377829351855241; ValidLL = -6.328106518409077; TestLL = -6.388115323312716\n",
      "Iteration 33/100. nodes = 286; params = 198\n",
      "TrainLL = -6.375041729016153; ValidLL = -6.327016976446381; TestLL = -6.386776840979702\n",
      "Iteration 34/100. nodes = 287; params = 200\n",
      "TrainLL = -6.375034840825435; ValidLL = -6.327119378273548; TestLL = -6.386576823985955\n",
      "Iteration 35/100. nodes = 317; params = 217\n",
      "TrainLL = -6.361271843748462; ValidLL = -6.317771878102026; TestLL = -6.3761301868225715\n",
      "Iteration 36/100. nodes = 318; params = 219\n",
      "TrainLL = -6.359069211088956; ValidLL = -6.315443625119951; TestLL = -6.37523132780565\n",
      "Iteration 37/100. nodes = 320; params = 220\n",
      "TrainLL = -6.359069210498234; ValidLL = -6.315443247783847; TestLL = -6.375231182494133\n",
      "Iteration 38/100. nodes = 321; params = 221\n",
      "TrainLL = -6.359069210498234; ValidLL = -6.315443247783847; TestLL = -6.375231182494133\n",
      "Iteration 39/100. nodes = 333; params = 228\n",
      "TrainLL = -6.358990263770917; ValidLL = -6.315484132026745; TestLL = -6.374917063748892\n",
      "Iteration 40/100. nodes = 334; params = 229\n",
      "TrainLL = -6.358990263770917; ValidLL = -6.315484132026745; TestLL = -6.374917063748892\n",
      "Iteration 41/100. nodes = 336; params = 230\n",
      "TrainLL = -6.3589900750989985; ValidLL = -6.3154822778157715; TestLL = -6.3749100752370795\n",
      "Iteration 42/100. nodes = 337; params = 231\n",
      "TrainLL = -6.3589900750989985; ValidLL = -6.3154822778157715; TestLL = -6.3749100752370795\n",
      "Iteration 43/100. nodes = 338; params = 232\n",
      "TrainLL = -6.356382714603444; ValidLL = -6.310221357136669; TestLL = -6.371273558964599\n",
      "Iteration 44/100. nodes = 339; params = 233\n",
      "TrainLL = -6.356382714603444; ValidLL = -6.310221357136669; TestLL = -6.371273558964599\n",
      "Iteration 45/100. nodes = 363; params = 248\n",
      "TrainLL = -6.350230576802439; ValidLL = -6.305413590382487; TestLL = -6.364274540849722\n",
      "Iteration 46/100. nodes = 364; params = 250\n",
      "TrainLL = -6.349858125618216; ValidLL = -6.305037242195963; TestLL = -6.364342917948509\n",
      "Iteration 47/100. nodes = 366; params = 251\n",
      "TrainLL = -6.34985812547911; ValidLL = -6.305037442194971; TestLL = -6.364342825850168\n",
      "Iteration 48/100. nodes = 367; params = 252\n",
      "TrainLL = -6.34985812547911; ValidLL = -6.305037442194971; TestLL = -6.364342825850168\n",
      "Iteration 49/100. nodes = 370; params = 256\n",
      "TrainLL = -6.333200160358027; ValidLL = -6.289787480573226; TestLL = -6.347509494850352\n",
      "Iteration 50/100. nodes = 371; params = 258\n",
      "TrainLL = -6.33257559208351; ValidLL = -6.2891555167659945; TestLL = -6.347950614242409\n",
      "Iteration 51/100. nodes = 374; params = 261\n",
      "TrainLL = -6.319639757808035; ValidLL = -6.281598376320412; TestLL = -6.332527753399935\n",
      "Iteration 52/100. nodes = 374; params = 261\n",
      "TrainLL = -6.319639757808035; ValidLL = -6.281598376320412; TestLL = -6.332527753399935\n",
      "Iteration 53/100. nodes = 390; params = 270\n",
      "TrainLL = -6.317749701672343; ValidLL = -6.279747174091974; TestLL = -6.328327527994232\n",
      "Iteration 54/100. nodes = 391; params = 272\n",
      "TrainLL = -6.317427689017532; ValidLL = -6.279979895630993; TestLL = -6.327466223389594\n",
      "Iteration 55/100. nodes = 427; params = 299\n",
      "TrainLL = -6.278175636447107; ValidLL = -6.24497318269758; TestLL = -6.284354615591016\n",
      "Iteration 56/100. nodes = 428; params = 301\n",
      "TrainLL = -6.278163183005764; ValidLL = -6.244998625116602; TestLL = -6.284284784307343\n",
      "Iteration 57/100. nodes = 430; params = 302\n",
      "TrainLL = -6.278163168967077; ValidLL = -6.244997036318458; TestLL = -6.284283960533651\n",
      "Iteration 58/100. nodes = 430; params = 302\n",
      "TrainLL = -6.278163168967077; ValidLL = -6.244997036318458; TestLL = -6.284283960533651\n",
      "Iteration 59/100. nodes = 434; params = 306\n",
      "TrainLL = -6.275431786507581; ValidLL = -6.242395609940013; TestLL = -6.282016847332865\n",
      "Iteration 60/100. nodes = 434; params = 306\n",
      "TrainLL = -6.275431786507581; ValidLL = -6.242395609940013; TestLL = -6.282016847332865\n",
      "Iteration 61/100. nodes = 436; params = 307\n",
      "TrainLL = -6.275431734913686; ValidLL = -6.242395975365438; TestLL = -6.2820118167852455\n",
      "Iteration 62/100. nodes = 436; params = 307\n",
      "TrainLL = -6.275431734913686; ValidLL = -6.242395975365438; TestLL = -6.2820118167852455\n",
      "Iteration 63/100. nodes = 490; params = 340\n",
      "TrainLL = -6.273988388858221; ValidLL = -6.24166873852275; TestLL = -6.281462595579733\n",
      "Iteration 64/100. nodes = 491; params = 342\n",
      "TrainLL = -6.2739788114026025; ValidLL = -6.241741569080784; TestLL = -6.281435149554001\n"
     ]
    },
    {
     "name": "stdout",
     "output_type": "stream",
     "text": [
      "Iteration 65/100. nodes = 493; params = 343\n",
      "TrainLL = -6.2739787909201645; ValidLL = -6.241744614863094; TestLL = -6.281432709667865\n",
      "Iteration 66/100. nodes = 494; params = 344\n",
      "TrainLL = -6.2739787909201645; ValidLL = -6.241744614863094; TestLL = -6.281432709667865\n",
      "Iteration 67/100. nodes = 498; params = 347\n",
      "TrainLL = -6.2739245773453485; ValidLL = -6.241592429786181; TestLL = -6.281497823902963\n",
      "Iteration 68/100. nodes = 499; params = 348\n",
      "TrainLL = -6.2739245773453485; ValidLL = -6.241592429786181; TestLL = -6.281497823902963\n",
      "Iteration 69/100. nodes = 502; params = 351\n",
      "TrainLL = -6.273859546650814; ValidLL = -6.241356734670433; TestLL = -6.280595528450995\n",
      "Iteration 70/100. nodes = 503; params = 353\n",
      "TrainLL = -6.2738446059559605; ValidLL = -6.241303153118501; TestLL = -6.280409491388872\n",
      "Iteration 71/100. nodes = 505; params = 354\n",
      "TrainLL = -6.2738446059559605; ValidLL = -6.241303153118501; TestLL = -6.280409491388872\n",
      "Iteration 72/100. nodes = 506; params = 355\n",
      "TrainLL = -6.2738446059559605; ValidLL = -6.241303153118501; TestLL = -6.280409491388872\n",
      "Iteration 73/100. nodes = 512; params = 361\n",
      "TrainLL = -6.262952737282481; ValidLL = -6.2323154236541916; TestLL = -6.271555809863453\n",
      "Iteration 74/100. nodes = 513; params = 364\n",
      "TrainLL = -6.258999755752899; ValidLL = -6.226981304694204; TestLL = -6.267211182962286\n",
      "Iteration 75/100. nodes = 515; params = 365\n",
      "TrainLL = -6.258999755752898; ValidLL = -6.226981304694204; TestLL = -6.267211182962286\n",
      "Iteration 76/100. nodes = 516; params = 367\n",
      "TrainLL = -6.2493153760021585; ValidLL = -6.214773010453415; TestLL = -6.257536649967099\n",
      "Iteration 77/100. nodes = 518; params = 368\n",
      "TrainLL = -6.249315374737381; ValidLL = -6.214772545598455; TestLL = -6.25753637142259\n",
      "Iteration 78/100. nodes = 519; params = 370\n",
      "TrainLL = -6.2492752815867005; ValidLL = -6.214518874428577; TestLL = -6.25762974228271\n",
      "Iteration 79/100. nodes = 553; params = 392\n",
      "TrainLL = -6.246475633939077; ValidLL = -6.211375003179544; TestLL = -6.256831869873886\n",
      "Iteration 80/100. nodes = 554; params = 394\n",
      "TrainLL = -6.246480693767208; ValidLL = -6.21140464699941; TestLL = -6.256873244534568\n",
      "Iteration 81/100. nodes = 556; params = 395\n",
      "TrainLL = -6.246480676759927; ValidLL = -6.211403828573883; TestLL = -6.256872441824821\n",
      "Iteration 82/100. nodes = 557; params = 396\n",
      "TrainLL = -6.246480676759927; ValidLL = -6.211403828573883; TestLL = -6.256872441824821\n",
      "Iteration 83/100. nodes = 571; params = 405\n",
      "TrainLL = -6.245773889645529; ValidLL = -6.210769624161793; TestLL = -6.2562723809372365\n",
      "Iteration 84/100. nodes = 572; params = 408\n",
      "TrainLL = -6.243311029419002; ValidLL = -6.207230849859057; TestLL = -6.253654251822742\n",
      "Iteration 85/100. nodes = 574; params = 409\n",
      "TrainLL = -6.233837143175164; ValidLL = -6.195350132204956; TestLL = -6.241957181698711\n",
      "Iteration 86/100. nodes = 575; params = 410\n",
      "TrainLL = -6.233837143175164; ValidLL = -6.195350132204956; TestLL = -6.241957181698711\n",
      "Iteration 87/100. nodes = 578; params = 414\n",
      "TrainLL = -6.233807832106655; ValidLL = -6.195329286447016; TestLL = -6.242163218601669\n",
      "Iteration 88/100. nodes = 579; params = 417\n",
      "TrainLL = -6.233731924213845; ValidLL = -6.19542434085058; TestLL = -6.242103591904477\n",
      "Iteration 89/100. nodes = 581; params = 418\n",
      "TrainLL = -6.23373137101805; ValidLL = -6.195425472184861; TestLL = -6.242089190976814\n",
      "Iteration 90/100. nodes = 582; params = 419\n",
      "TrainLL = -6.23373137101805; ValidLL = -6.195425472184861; TestLL = -6.242089190976814\n",
      "Iteration 91/100. nodes = 584; params = 420\n",
      "TrainLL = -6.233420824343904; ValidLL = -6.1953775177758015; TestLL = -6.242546049280768\n",
      "Iteration 92/100. nodes = 584; params = 420\n",
      "TrainLL = -6.233420824343904; ValidLL = -6.1953775177758015; TestLL = -6.242546049280768\n",
      "Iteration 93/100. nodes = 620; params = 445\n",
      "TrainLL = -6.23290646598856; ValidLL = -6.195724884849328; TestLL = -6.241510745250639\n",
      "Iteration 94/100. nodes = 621; params = 447\n",
      "TrainLL = -6.232908607299484; ValidLL = -6.195755662017746; TestLL = -6.241556450586217\n",
      "Iteration 95/100. nodes = 623; params = 448\n",
      "TrainLL = -6.232908512206855; ValidLL = -6.195753371483277; TestLL = -6.241556065201719\n",
      "Iteration 96/100. nodes = 623; params = 448\n",
      "TrainLL = -6.232908512206855; ValidLL = -6.195753371483277; TestLL = -6.241556065201719\n",
      "Iteration 97/100. nodes = 653; params = 469\n",
      "TrainLL = -6.232892520542024; ValidLL = -6.195874118356625; TestLL = -6.241485779687853\n",
      "Iteration 98/100. nodes = 654; params = 471\n",
      "TrainLL = -6.232920592408458; ValidLL = -6.195885686338178; TestLL = -6.241519054280454\n",
      "Iteration 99/100. nodes = 656; params = 472\n",
      "TrainLL = -6.232920262810283; ValidLL = -6.195868273173666; TestLL = -6.24152694525817\n",
      "Iteration 100/100. nodes = 656; params = 472\n",
      "TrainLL = -6.232920262810283; ValidLL = -6.195868273173666; TestLL = -6.24152694525817\n"
     ]
    },
    {
     "data": {
      "text/plain": [
       "StructSumNode(12589776762638928307)"
      ]
     },
     "execution_count": 3,
     "metadata": {},
     "output_type": "execute_result"
    }
   ],
   "source": [
    "learn_single_model(\"nltcs\")"
   ]
  },
  {
   "cell_type": "code",
   "execution_count": 3,
   "metadata": {},
   "outputs": [
    {
     "data": {
      "text/plain": [
       "(UInt64[0xffffffffffffffff 0x0000000000000000 … 0xffffffffffffffff 0xffffffffffffffff; 0xffffffffffffffff 0x0000000000000000 … 0xffffffffffffffff 0xffffffffffffffff; … ; 0xffffffffffffffff 0x0000000000000000 … 0xffffffffffffffff 0xffffffffffffffff; 0x001fffffffffffff 0x0000000000000000 … 0x001fffffffffffff 0x001fffffffffffff], UInt64[0xffffffffffffffff 0x0000000000000000 … 0x69ffdf5e7fbffff5 0xffffffffffffffff; 0xffffffffffffffff 0xfffffffffffffff0 … 0xf7ffddeffdb77ddf 0xffffffffffffffff; … ; 0xffffffffffffffff 0xfffffffffffffff0 … 0xffbffefff7d6bc2b 0xffffffffffffffff; 0x001fffffffffffff 0x0000000000000000 … 0x000d3fbfffe8ef23 0x001fffffffffffff])"
      ]
     },
     "execution_count": 3,
     "metadata": {},
     "output_type": "execute_result"
    }
   ],
   "source": [
    "values, flows = satisfies_flows(pc, train_x; weights = nothing) # Do not use samples weights here"
   ]
  },
  {
   "cell_type": "code",
   "execution_count": 4,
   "metadata": {},
   "outputs": [
    {
     "data": {
      "text/plain": [
       "flow (generic function with 2 methods)"
      ]
     },
     "execution_count": 4,
     "metadata": {},
     "output_type": "execute_result"
    }
   ],
   "source": [
    "@inline flow(n) = downflow_all(values, flows, num_examples(train_x), n)\n",
    "@inline flow(n, c) = downflow_all(values, flows, num_examples(train_x), n, c)"
   ]
  },
  {
   "cell_type": "code",
   "execution_count": 5,
   "metadata": {
    "collapsed": true
   },
   "outputs": [],
   "source": [
    "@assert sum(flow(pc, children(pc)[1])) + sum(flow(pc, children(pc)[2])) == sum(flow(pc))"
   ]
  },
  {
   "cell_type": "code",
   "execution_count": 6,
   "metadata": {},
   "outputs": [
    {
     "data": {
      "text/plain": [
       "⋁NodeIds(10, 77)"
      ]
     },
     "execution_count": 6,
     "metadata": {},
     "output_type": "execute_result"
    }
   ],
   "source": [
    "pc.data"
   ]
  },
  {
   "cell_type": "code",
   "execution_count": 7,
   "metadata": {},
   "outputs": [
    {
     "data": {
      "text/plain": [
       "(StructSumNode(7846561458313052653), StructMulNode(13719827015204003611), StructMulNode(9210177502371392533))"
      ]
     },
     "execution_count": 7,
     "metadata": {},
     "output_type": "execute_result"
    }
   ],
   "source": [
    "clone_heuristic(pc, train_x)"
   ]
  },
  {
   "cell_type": "code",
   "execution_count": 8,
   "metadata": {},
   "outputs": [
    {
     "data": {
      "text/plain": [
       "(UInt64[0xffffffffffffffff 0x0000000000000000 … 0xffffffffffffffff 0xffffffffffffffff; 0xffffffffffffffff 0x0000000000000000 … 0xffffffffffffffff 0xffffffffffffffff; … ; 0xffffffffffffffff 0x0000000000000000 … 0xffffffffffffffff 0xffffffffffffffff; 0x001fffffffffffff 0x0000000000000000 … 0x001fffffffffffff 0x001fffffffffffff], UInt64[0xffffffffffffffff 0x000000000af53e68 … 0x69ffdf5e7fbffff5 0xffffffffffffffff; 0xffffffffffffffff 0x0000004102000000 … 0xf7ffddeffdb77ddf 0xffffffffffffffff; … ; 0xffffffffffffffff 0x000000000af5f5e8 … 0xffbffefff7d6bc2b 0xffffffffffffffff; 0x001fffffffffffff 0x000000040000000a … 0x000d3fbfffe8ef23 0x001fffffffffffff])"
      ]
     },
     "execution_count": 8,
     "metadata": {},
     "output_type": "execute_result"
    }
   ],
   "source": [
    " values, flows = satisfies_flows(pc, train_x; weights = nothing) # Do not use samples weights here"
   ]
  },
  {
   "cell_type": "code",
   "execution_count": 9,
   "metadata": {},
   "outputs": [
    {
     "data": {
      "text/plain": [
       "16181-element BitArray{1}:\n",
       " 1\n",
       " 1\n",
       " 1\n",
       " 1\n",
       " 1\n",
       " 1\n",
       " 1\n",
       " 1\n",
       " 1\n",
       " 1\n",
       " 1\n",
       " 1\n",
       " 1\n",
       " ⋮\n",
       " 1\n",
       " 1\n",
       " 1\n",
       " 1\n",
       " 1\n",
       " 1\n",
       " 1\n",
       " 1\n",
       " 1\n",
       " 1\n",
       " 1\n",
       " 1"
      ]
     },
     "execution_count": 9,
     "metadata": {},
     "output_type": "execute_result"
    }
   ],
   "source": [
    "downflow_all(values, flows, num_examples(train_x), pc)"
   ]
  },
  {
   "cell_type": "code",
   "execution_count": 12,
   "metadata": {},
   "outputs": [
    {
     "data": {
      "text/plain": [
       "Dict{Node,Array{Node,1}} with 16 entries:\n",
       "  StructSumNode(5547237805119606025)  => Node[StructMulNode(1421480444399418738…\n",
       "  StructSumNode(10161555795638173770) => Node[StructMulNode(8231273672803750864…\n",
       "  StructSumNode(7430458410699530381)  => Node[StructMulNode(1480550096736678075…\n",
       "  StructSumNode(15042493966630656080) => Node[StructMulNode(1692439345225297265…\n",
       "  StructSumNode(2116277088014971217)  => Node[StructMulNode(1139649629619353412…\n",
       "  StructSumNode(12290800413675921683) => Node[StructMulNode(5240941213192540122…\n",
       "  StructSumNode(13920149068109821015) => Node[StructMulNode(9785863909166074026…\n",
       "  StructSumNode(15551780959521123160) => Node[StructMulNode(3855391978654635692…\n",
       "  StructSumNode(5991205404610383511)  => Node[StructMulNode(1652849366514819162…\n",
       "  StructSumNode(12930014381314986332) => Node[StructMulNode(4559819461303690396…\n",
       "  StructSumNode(16533469141251614113) => Node[StructMulNode(2105461125782864535…\n",
       "  StructSumNode(7988205343464417067)  => Node[StructMulNode(1714678842563855479…\n",
       "  StructSumNode(9951519842929572593)  => Node[StructMulNode(1441965813706938827…\n",
       "  StructSumNode(9203208800196418545)  => Node[StructMulNode(1558208403943897713…\n",
       "  StructSumNode(5624273317092648499)  => Node[StructMulNode(1103915323781866125…\n",
       "  StructSumNode(402919908503630071)   => Node[StructMulNode(1044159851723484598…"
      ]
     },
     "execution_count": 12,
     "metadata": {},
     "output_type": "execute_result"
    }
   ],
   "source": [
    "candidates = clone_candidates(pc)"
   ]
  },
  {
   "cell_type": "code",
   "execution_count": 61,
   "metadata": {},
   "outputs": [
    {
     "data": {
      "text/plain": [
       "cloneFlowFull (generic function with 1 method)"
      ]
     },
     "execution_count": 61,
     "metadata": {},
     "output_type": "execute_result"
    }
   ],
   "source": [
    "function get_and_parents(circuit::Node)::Dict{Node, Vector{Node}}\n",
    "    parents = Dict{Node, Vector{Node}}()\n",
    "\n",
    "    f_con(n) = begin\n",
    "        false\n",
    "    end\n",
    "    f_lit(n) = begin\n",
    "        false\n",
    "    end\n",
    "    f_a(n, cv) = begin\n",
    "        for c in children(n)\n",
    "            if c in keys(parents)\n",
    "                push!(parents[c], n)\n",
    "            else\n",
    "                parents[c] = [n]\n",
    "            end\n",
    "        end\n",
    "        false\n",
    "    end\n",
    "    f_o(n, cv) = begin\n",
    "        for c in children(n)\n",
    "            if c in keys(parents)\n",
    "                push!(parents[c], n)\n",
    "            else\n",
    "                parents[c] = [n]\n",
    "            end\n",
    "        end\n",
    "        true\n",
    "    end\n",
    "\n",
    "    foldup_aggregate(circuit, f_con, f_lit, f_a, f_o, Bool)\n",
    "    return parents\n",
    "end\n",
    "\n",
    "function cloneFlowFull(circuit, candidates, train_x)\n",
    "    and_parents_dict = get_and_parents(circuit)\n",
    "\n",
    "    values, flows = satisfies_flows(circuit, train_x; weights = nothing) # Do not use samples weights here\n",
    "    @inline flow(n) = downflow_all(values, flows, num_examples(train_x), n)\n",
    "    @inline flow(n, c) = downflow_all(values, flows, num_examples(train_x), n, c)\n",
    "\n",
    "    function flow_and(and)\n",
    "        parents = and_parents_dict[and]\n",
    "        flow_mask = BitArray(zeros(size(train_x)[1]))\n",
    "        for or in parents\n",
    "            flow_mask = flow_mask .| flow(or, and)\n",
    "        end\n",
    "        return flow_mask\n",
    "    end\n",
    "\n",
    "     @inline log_term(D1, D2) = begin\n",
    "         if D1 == 0\n",
    "            return 0\n",
    "        elseif D2 == 0\n",
    "            return 0\n",
    "        else\n",
    "            return log(D1 / D2)*D1\n",
    "        end\n",
    "     end\n",
    "\n",
    "     @inline flow_score(or, and1, and2) = begin\n",
    "        ll = 0.0\n",
    "        flow_or = flow(or)\n",
    "        flow_and1 = flow_and(and1)\n",
    "        flow_and2 = flow_and(and2)\n",
    "        @assert flow_and1 .| flow_and2 == flow_or\n",
    "        Dn = sum(flow_or)\n",
    "        Dn_plus = sum(flow_or .& flow_and1)\n",
    "        Dn_minus = sum(flow_or .& flow_and2)\n",
    "    \n",
    "        for c in children(or)\n",
    "            Dnp = sum(flow(or, c))\n",
    "            if is⋀gate(c)\n",
    "                flow_c = flow_and(c)\n",
    "            else\n",
    "                flow_c = flow(c)\n",
    "            end\n",
    "            Dnp_plus = sum((flow_or .& flow_and1) .& flow_c)\n",
    "            Dnp_minus = sum((flow_or .& flow_and2) .& flow_c)\n",
    "            \n",
    "            ll += (log_term(Dnp_plus, Dn_plus) + log_term(Dnp_minus, Dn_minus) - log_term(Dnp, Dn))\n",
    "        end\n",
    "        ll\n",
    "    end\n",
    "\n",
    "    score_map = Dict()\n",
    "    for (or, (and1, and2)) in candidates\n",
    "        score = flow_score(or, and1, and2)\n",
    "        score_map[(or, and1, and2)] = score\n",
    "    end\n",
    "\n",
    "    sort([((or, and1, and2), val) for ((or, and1, and2), val) in score_map], by=x->x[2], rev=true)\n",
    "end"
   ]
  },
  {
   "cell_type": "code",
   "execution_count": 62,
   "metadata": {},
   "outputs": [
    {
     "data": {
      "text/plain": [
       "16-element Array{Tuple{Tuple{StructSumNode,StructMulNode,StructMulNode},Float64},1}:\n",
       " ((StructSumNode(2116277088014971217), StructMulNode(11396496296193534120), StructMulNode(13210117758038903916)), 510.63670598120507)\n",
       " ((StructSumNode(13920149068109821015), StructMulNode(9785863909166074026), StructMulNode(15272167722242187799)), 294.77301758126646)\n",
       " ((StructSumNode(16533469141251614113), StructMulNode(2105461125782864535), StructMulNode(9464646847564712353)), 170.7769864826745)\n",
       " ((StructSumNode(9951519842929572593), StructMulNode(14419658137069388270), StructMulNode(14416571540490115364)), 150.0419219297628)\n",
       " ((StructSumNode(15042493966630656080), StructMulNode(16924393452252972650), StructMulNode(450198452091156145)), 145.55806313379526)\n",
       " ((StructSumNode(12290800413675921683), StructMulNode(5240941213192540122), StructMulNode(16871935065331574105)), 94.5039502732916)\n",
       " ((StructSumNode(402919908503630071), StructMulNode(10441598517234845982), StructMulNode(10864761449134862579)), 51.843841711233836)\n",
       " ((StructSumNode(7430458410699530381), StructMulNode(14805500967366780756), StructMulNode(13634638798925567871)), 1.8470303572924536)\n",
       " ((StructSumNode(7988205343464417067), StructMulNode(17146788425638554791), StructMulNode(15445190212746078031)), 0.0)\n",
       " ((StructSumNode(12930014381314986332), StructMulNode(4559819461303690396), StructMulNode(17294763977690713222)), 0.0)\n",
       " ((StructSumNode(5547237805119606025), StructMulNode(14214804443994187382), StructMulNode(13609341463875337470)), 0.0)\n",
       " ((StructSumNode(10161555795638173770), StructMulNode(8231273672803750864), StructMulNode(1243523954334818106)), 0.0)\n",
       " ((StructSumNode(15551780959521123160), StructMulNode(3855391978654635692), StructMulNode(2225889192649355594)), 0.0)\n",
       " ((StructSumNode(9203208800196418545), StructMulNode(15582084039438977134), StructMulNode(894297082406403125)), 0.0)\n",
       " ((StructSumNode(5624273317092648499), StructMulNode(11039153237818661253), StructMulNode(1590548342360020040)), 0.0)\n",
       " ((StructSumNode(5991205404610383511), StructMulNode(1652849366514819162), StructMulNode(9457983452681437125)), 0.0)"
      ]
     },
     "execution_count": 62,
     "metadata": {},
     "output_type": "execute_result"
    }
   ],
   "source": [
    "score_map = cloneFlowFull(pc, candidates, train_x)"
   ]
  },
  {
   "cell_type": "code",
   "execution_count": 39,
   "metadata": {},
   "outputs": [
    {
     "data": {
      "text/plain": [
       "(StructSumNode(2116277088014971217), StructMulNode(11396496296193534120), StructMulNode(13210117758038903916))"
      ]
     },
     "execution_count": 39,
     "metadata": {},
     "output_type": "execute_result"
    }
   ],
   "source": [
    "tup = sort([((or, and1, and2), val) for ((or, and1, and2), val) in score_map], by=x->x[2], rev=true)[1][1]"
   ]
  },
  {
   "cell_type": "code",
   "execution_count": 2,
   "metadata": {},
   "outputs": [
    {
     "name": "stderr",
     "output_type": "stream",
     "text": [
      "\u001b[32m\u001b[1m Activating\u001b[22m\u001b[39m environment at `/media/shreyas/Data/UCLA-Intern/ILStrudel/ILStrudel.jl/Project.toml`\n",
      "┌ Info: Precompiling JLD [4138dd39-2aa7-5051-a626-17a0bb65d9c8]\n",
      "└ @ Base loading.jl:1278\n"
     ]
    }
   ],
   "source": [
    "using Pkg\n",
    "Pkg.activate(\"/media/shreyas/Data/UCLA-Intern/ILStrudel/ILStrudel.jl\")\n",
    "using JLD"
   ]
  },
  {
   "cell_type": "code",
   "execution_count": 7,
   "metadata": {},
   "outputs": [
    {
     "data": {
      "text/plain": [
       "10-element Array{BitArray{1},1}:\n",
       " [1, 1, 1, 1, 1, 1, 1, 1, 1, 1  …  1, 1, 1, 1, 1, 1, 1, 1, 1, 1]\n",
       " [1, 1, 1, 1, 1, 1, 1, 1, 1, 1  …  1, 1, 1, 1, 1, 1, 1, 1, 1, 1]\n",
       " [1, 1, 1, 1, 1, 1, 1, 1, 1, 1  …  1, 1, 1, 1, 1, 1, 1, 1, 1, 1]\n",
       " [1, 1, 1, 1, 1, 1, 1, 1, 1, 1  …  1, 1, 1, 1, 1, 1, 1, 1, 1, 1]\n",
       " [1, 1, 1, 1, 1, 1, 1, 1, 1, 1  …  1, 1, 1, 1, 1, 1, 1, 1, 1, 1]\n",
       " [1, 1, 1, 1, 1, 1, 1, 1, 1, 1  …  1, 1, 1, 1, 1, 1, 1, 1, 1, 1]\n",
       " [1, 1, 1, 1, 1, 1, 1, 1, 1, 1  …  1, 1, 1, 1, 1, 1, 1, 1, 1, 1]\n",
       " [1, 1, 1, 1, 1, 1, 1, 1, 1, 1  …  1, 1, 1, 1, 1, 1, 1, 1, 1, 1]\n",
       " [1, 1, 1, 1, 1, 1, 1, 1, 1, 1  …  1, 1, 1, 1, 1, 1, 1, 1, 1, 1]\n",
       " [1, 1, 1, 1, 1, 1, 1, 1, 1, 1  …  1, 1, 1, 1, 1, 1, 1, 1, 1, 1]"
      ]
     },
     "execution_count": 7,
     "metadata": {},
     "output_type": "execute_result"
    }
   ],
   "source": [
    "bitmasks = [BitArray(ones(100000)) for i in 1:10]"
   ]
  },
  {
   "cell_type": "code",
   "execution_count": 8,
   "metadata": {},
   "outputs": [],
   "source": [
    "save(\"bitmasks.jld\", \"bitmasks\", bitmasks)"
   ]
  },
  {
   "cell_type": "code",
   "execution_count": 13,
   "metadata": {},
   "outputs": [
    {
     "data": {
      "text/plain": [
       "10-element Array{BitArray{1},1}:\n",
       " [1, 1, 1, 1, 1, 1, 1, 1, 1, 1  …  1, 1, 1, 1, 1, 1, 1, 1, 1, 1]\n",
       " [1, 1, 1, 1, 1, 1, 1, 1, 1, 1  …  1, 1, 1, 1, 1, 1, 1, 1, 1, 1]\n",
       " [1, 1, 1, 1, 1, 1, 1, 1, 1, 1  …  1, 1, 1, 1, 1, 1, 1, 1, 1, 1]\n",
       " [1, 1, 1, 1, 1, 1, 1, 1, 1, 1  …  1, 1, 1, 1, 1, 1, 1, 1, 1, 1]\n",
       " [1, 1, 1, 1, 1, 1, 1, 1, 1, 1  …  1, 1, 1, 1, 1, 1, 1, 1, 1, 1]\n",
       " [1, 1, 1, 1, 1, 1, 1, 1, 1, 1  …  1, 1, 1, 1, 1, 1, 1, 1, 1, 1]\n",
       " [1, 1, 1, 1, 1, 1, 1, 1, 1, 1  …  1, 1, 1, 1, 1, 1, 1, 1, 1, 1]\n",
       " [1, 1, 1, 1, 1, 1, 1, 1, 1, 1  …  1, 1, 1, 1, 1, 1, 1, 1, 1, 1]\n",
       " [1, 1, 1, 1, 1, 1, 1, 1, 1, 1  …  1, 1, 1, 1, 1, 1, 1, 1, 1, 1]\n",
       " [1, 1, 1, 1, 1, 1, 1, 1, 1, 1  …  1, 1, 1, 1, 1, 1, 1, 1, 1, 1]"
      ]
     },
     "execution_count": 13,
     "metadata": {},
     "output_type": "execute_result"
    }
   ],
   "source": [
    "d = load(\"bitmasks.jld\")\n",
    "b = d[\"bitmasks\"]"
   ]
  },
  {
   "cell_type": "code",
   "execution_count": 27,
   "metadata": {},
   "outputs": [
    {
     "data": {
      "text/plain": [
       "\"(homedir())/ILStrudel/bitmasks\""
      ]
     },
     "execution_count": 27,
     "metadata": {},
     "output_type": "execute_result"
    }
   ],
   "source": [
    "isdir(\"~/ILStrudel/bitmasks\")\n",
    "mkpath(\"($homedir())/ILStrudel/bitmasks\")"
   ]
  },
  {
   "cell_type": "code",
   "execution_count": 32,
   "metadata": {},
   "outputs": [
    {
     "data": {
      "text/plain": [
       "\"/home/shreyas/ILStrudel/bitmasks.jld\""
      ]
     },
     "execution_count": 32,
     "metadata": {},
     "output_type": "execute_result"
    }
   ],
   "source": [
    "base = homedir()\n",
    "path = joinpath(base, \"ILStrudel/bitmasks.jld\")"
   ]
  },
  {
   "cell_type": "code",
   "execution_count": 37,
   "metadata": {},
   "outputs": [
    {
     "data": {
      "text/plain": [
       "\"A_B.jld\""
      ]
     },
     "execution_count": 37,
     "metadata": {},
     "output_type": "execute_result"
    }
   ],
   "source": [
    "a = \"A\"\n",
    "b = \"B\"\n",
    "\"$(a)_$(b).jld\""
   ]
  },
  {
   "cell_type": "code",
   "execution_count": 40,
   "metadata": {},
   "outputs": [
    {
     "data": {
      "text/plain": [
       "13"
      ]
     },
     "execution_count": 40,
     "metadata": {},
     "output_type": "execute_result"
    }
   ],
   "source": [
    "length(readdir())"
   ]
  },
  {
   "cell_type": "code",
   "execution_count": null,
   "metadata": {
    "collapsed": true
   },
   "outputs": [],
   "source": []
  }
 ],
 "metadata": {
  "kernelspec": {
   "display_name": "Julia 1.5.2",
   "language": "julia",
   "name": "julia-1.5"
  },
  "language_info": {
   "file_extension": ".jl",
   "mimetype": "application/julia",
   "name": "julia",
   "version": "1.5.2"
  }
 },
 "nbformat": 4,
 "nbformat_minor": 2
}
